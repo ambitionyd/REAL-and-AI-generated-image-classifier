{
 "cells": [
  {
   "cell_type": "code",
   "execution_count": 1,
   "id": "94c6f4b4",
   "metadata": {
    "execution": {
     "iopub.execute_input": "2023-06-20T05:11:24.646651Z",
     "iopub.status.busy": "2023-06-20T05:11:24.646217Z",
     "iopub.status.idle": "2023-06-20T05:11:24.657715Z",
     "shell.execute_reply": "2023-06-20T05:11:24.656865Z"
    },
    "papermill": {
     "duration": 0.023297,
     "end_time": "2023-06-20T05:11:24.659701",
     "exception": false,
     "start_time": "2023-06-20T05:11:24.636404",
     "status": "completed"
    },
    "tags": []
   },
   "outputs": [],
   "source": [
    "import os\n",
    "from PIL import Image"
   ]
  },
  {
   "cell_type": "code",
   "execution_count": 2,
   "id": "4bb380c3",
   "metadata": {
    "execution": {
     "iopub.execute_input": "2023-06-20T05:11:24.676096Z",
     "iopub.status.busy": "2023-06-20T05:11:24.675818Z",
     "iopub.status.idle": "2023-06-20T05:11:24.679650Z",
     "shell.execute_reply": "2023-06-20T05:11:24.678824Z"
    },
    "papermill": {
     "duration": 0.014344,
     "end_time": "2023-06-20T05:11:24.681769",
     "exception": false,
     "start_time": "2023-06-20T05:11:24.667425",
     "status": "completed"
    },
    "tags": []
   },
   "outputs": [],
   "source": [
    "os.mkdir(\"./data\")"
   ]
  },
  {
   "cell_type": "code",
   "execution_count": 3,
   "id": "4ae65df9",
   "metadata": {
    "execution": {
     "iopub.execute_input": "2023-06-20T05:11:24.697867Z",
     "iopub.status.busy": "2023-06-20T05:11:24.697608Z",
     "iopub.status.idle": "2023-06-20T05:11:24.701759Z",
     "shell.execute_reply": "2023-06-20T05:11:24.700863Z"
    },
    "papermill": {
     "duration": 0.014467,
     "end_time": "2023-06-20T05:11:24.703671",
     "exception": false,
     "start_time": "2023-06-20T05:11:24.689204",
     "status": "completed"
    },
    "tags": []
   },
   "outputs": [],
   "source": [
    "os.mkdir(\"./data/fake\")\n",
    "os.mkdir(\"./data/real\")"
   ]
  },
  {
   "cell_type": "code",
   "execution_count": 4,
   "id": "8a80136e",
   "metadata": {
    "execution": {
     "iopub.execute_input": "2023-06-20T05:11:24.720006Z",
     "iopub.status.busy": "2023-06-20T05:11:24.719272Z",
     "iopub.status.idle": "2023-06-20T05:11:24.723220Z",
     "shell.execute_reply": "2023-06-20T05:11:24.722330Z"
    },
    "papermill": {
     "duration": 0.014033,
     "end_time": "2023-06-20T05:11:24.725121",
     "exception": false,
     "start_time": "2023-06-20T05:11:24.711088",
     "status": "completed"
    },
    "tags": []
   },
   "outputs": [],
   "source": [
    "folder_path=\"/kaggle/input/stable-diffusion-generated-images/StableDiff/StableDiff/StableDiff\""
   ]
  },
  {
   "cell_type": "code",
   "execution_count": 5,
   "id": "6909834a",
   "metadata": {
    "execution": {
     "iopub.execute_input": "2023-06-20T05:11:24.741470Z",
     "iopub.status.busy": "2023-06-20T05:11:24.740673Z",
     "iopub.status.idle": "2023-06-20T05:11:24.835064Z",
     "shell.execute_reply": "2023-06-20T05:11:24.834163Z"
    },
    "papermill": {
     "duration": 0.105127,
     "end_time": "2023-06-20T05:11:24.837659",
     "exception": false,
     "start_time": "2023-06-20T05:11:24.732532",
     "status": "completed"
    },
    "tags": []
   },
   "outputs": [],
   "source": [
    "file_names=os.listdir(folder_path)"
   ]
  },
  {
   "cell_type": "code",
   "execution_count": 6,
   "id": "067e390e",
   "metadata": {
    "execution": {
     "iopub.execute_input": "2023-06-20T05:11:24.855780Z",
     "iopub.status.busy": "2023-06-20T05:11:24.854015Z",
     "iopub.status.idle": "2023-06-20T05:11:24.859103Z",
     "shell.execute_reply": "2023-06-20T05:11:24.858200Z"
    },
    "papermill": {
     "duration": 0.015656,
     "end_time": "2023-06-20T05:11:24.861049",
     "exception": false,
     "start_time": "2023-06-20T05:11:24.845393",
     "status": "completed"
    },
    "tags": []
   },
   "outputs": [],
   "source": [
    "fake_path=\"./data/fake\""
   ]
  },
  {
   "cell_type": "code",
   "execution_count": 7,
   "id": "448c2305",
   "metadata": {
    "execution": {
     "iopub.execute_input": "2023-06-20T05:11:24.877068Z",
     "iopub.status.busy": "2023-06-20T05:11:24.876767Z",
     "iopub.status.idle": "2023-06-20T05:13:38.173560Z",
     "shell.execute_reply": "2023-06-20T05:13:38.172616Z"
    },
    "papermill": {
     "duration": 133.307689,
     "end_time": "2023-06-20T05:13:38.176176",
     "exception": false,
     "start_time": "2023-06-20T05:11:24.868487",
     "status": "completed"
    },
    "tags": []
   },
   "outputs": [],
   "source": [
    "for file in file_names:\n",
    "    img=Image.open(folder_path+\"/\"+file)\n",
    "    img.save(fake_path+\"/\"+file+\".JPEG\")"
   ]
  },
  {
   "cell_type": "code",
   "execution_count": 8,
   "id": "03bbb278",
   "metadata": {
    "execution": {
     "iopub.execute_input": "2023-06-20T05:13:38.192929Z",
     "iopub.status.busy": "2023-06-20T05:13:38.192645Z",
     "iopub.status.idle": "2023-06-20T05:13:38.205136Z",
     "shell.execute_reply": "2023-06-20T05:13:38.204321Z"
    },
    "papermill": {
     "duration": 0.022971,
     "end_time": "2023-06-20T05:13:38.207030",
     "exception": false,
     "start_time": "2023-06-20T05:13:38.184059",
     "status": "completed"
    },
    "tags": []
   },
   "outputs": [
    {
     "data": {
      "text/plain": [
       "4952"
      ]
     },
     "execution_count": 8,
     "metadata": {},
     "output_type": "execute_result"
    }
   ],
   "source": [
    "len(os.listdir(\"./data/fake\"))"
   ]
  },
  {
   "cell_type": "code",
   "execution_count": 9,
   "id": "7d83a03d",
   "metadata": {
    "execution": {
     "iopub.execute_input": "2023-06-20T05:13:38.224551Z",
     "iopub.status.busy": "2023-06-20T05:13:38.223088Z",
     "iopub.status.idle": "2023-06-20T05:13:38.228370Z",
     "shell.execute_reply": "2023-06-20T05:13:38.227508Z"
    },
    "papermill": {
     "duration": 0.015762,
     "end_time": "2023-06-20T05:13:38.230375",
     "exception": false,
     "start_time": "2023-06-20T05:13:38.214613",
     "status": "completed"
    },
    "tags": []
   },
   "outputs": [],
   "source": [
    "folder_path=\"/kaggle/input/stable-diffusion-generated-images/laion400m-laion4.75/laion400m-laion4.75/laion400m-laion4.75+/laion400m-laion4.75+\""
   ]
  },
  {
   "cell_type": "code",
   "execution_count": 10,
   "id": "5ac208ac",
   "metadata": {
    "execution": {
     "iopub.execute_input": "2023-06-20T05:13:38.247021Z",
     "iopub.status.busy": "2023-06-20T05:13:38.246747Z",
     "iopub.status.idle": "2023-06-20T05:13:38.404921Z",
     "shell.execute_reply": "2023-06-20T05:13:38.404012Z"
    },
    "papermill": {
     "duration": 0.169166,
     "end_time": "2023-06-20T05:13:38.407432",
     "exception": false,
     "start_time": "2023-06-20T05:13:38.238266",
     "status": "completed"
    },
    "tags": []
   },
   "outputs": [],
   "source": [
    "file_names=os.listdir(folder_path)"
   ]
  },
  {
   "cell_type": "code",
   "execution_count": null,
   "id": "493dd88e",
   "metadata": {
    "papermill": {
     "duration": 0.007392,
     "end_time": "2023-06-20T05:13:38.422782",
     "exception": false,
     "start_time": "2023-06-20T05:13:38.415390",
     "status": "completed"
    },
    "tags": []
   },
   "outputs": [],
   "source": []
  },
  {
   "cell_type": "code",
   "execution_count": 11,
   "id": "b4c0bf59",
   "metadata": {
    "execution": {
     "iopub.execute_input": "2023-06-20T05:13:38.440085Z",
     "iopub.status.busy": "2023-06-20T05:13:38.439340Z",
     "iopub.status.idle": "2023-06-20T05:16:17.839827Z",
     "shell.execute_reply": "2023-06-20T05:16:17.838833Z"
    },
    "papermill": {
     "duration": 159.411994,
     "end_time": "2023-06-20T05:16:17.842440",
     "exception": false,
     "start_time": "2023-06-20T05:13:38.430446",
     "status": "completed"
    },
    "tags": []
   },
   "outputs": [],
   "source": [
    "for file in file_names:\n",
    "    try:\n",
    "        img=Image.open(folder_path+\"/\"+file)\n",
    "        if img.format == 'PNG':\n",
    "            if img.mode != 'RGBA':\n",
    "                img=img.convert(\"RGBA\")\n",
    "        img=img.convert(\"RGB\")\n",
    "        img.save(fake_path+\"/\"+file+\".JPEG\")\n",
    "    except:\n",
    "        pass"
   ]
  },
  {
   "cell_type": "code",
   "execution_count": 12,
   "id": "17551809",
   "metadata": {
    "execution": {
     "iopub.execute_input": "2023-06-20T05:16:17.861366Z",
     "iopub.status.busy": "2023-06-20T05:16:17.859749Z",
     "iopub.status.idle": "2023-06-20T05:16:17.873526Z",
     "shell.execute_reply": "2023-06-20T05:16:17.872541Z"
    },
    "papermill": {
     "duration": 0.025039,
     "end_time": "2023-06-20T05:16:17.875663",
     "exception": false,
     "start_time": "2023-06-20T05:16:17.850624",
     "status": "completed"
    },
    "tags": []
   },
   "outputs": [
    {
     "data": {
      "text/plain": [
       "9997"
      ]
     },
     "execution_count": 12,
     "metadata": {},
     "output_type": "execute_result"
    }
   ],
   "source": [
    "len(os.listdir(fake_path))"
   ]
  },
  {
   "cell_type": "code",
   "execution_count": 13,
   "id": "d7bfdb87",
   "metadata": {
    "execution": {
     "iopub.execute_input": "2023-06-20T05:16:17.892444Z",
     "iopub.status.busy": "2023-06-20T05:16:17.892155Z",
     "iopub.status.idle": "2023-06-20T05:16:17.896428Z",
     "shell.execute_reply": "2023-06-20T05:16:17.895499Z"
    },
    "papermill": {
     "duration": 0.015057,
     "end_time": "2023-06-20T05:16:17.898539",
     "exception": false,
     "start_time": "2023-06-20T05:16:17.883482",
     "status": "completed"
    },
    "tags": []
   },
   "outputs": [],
   "source": [
    "folder_path=\"/kaggle/input/imagenet/imagenet/train\""
   ]
  },
  {
   "cell_type": "code",
   "execution_count": 14,
   "id": "71b8a264",
   "metadata": {
    "execution": {
     "iopub.execute_input": "2023-06-20T05:16:17.914987Z",
     "iopub.status.busy": "2023-06-20T05:16:17.914698Z",
     "iopub.status.idle": "2023-06-20T05:16:19.585586Z",
     "shell.execute_reply": "2023-06-20T05:16:19.584622Z"
    },
    "papermill": {
     "duration": 1.682059,
     "end_time": "2023-06-20T05:16:19.588256",
     "exception": false,
     "start_time": "2023-06-20T05:16:17.906197",
     "status": "completed"
    },
    "tags": []
   },
   "outputs": [],
   "source": [
    "file_names=os.listdir(folder_path)\n",
    "fake_path=\"./data/real\""
   ]
  },
  {
   "cell_type": "code",
   "execution_count": 15,
   "id": "bad9d19f",
   "metadata": {
    "execution": {
     "iopub.execute_input": "2023-06-20T05:16:19.605451Z",
     "iopub.status.busy": "2023-06-20T05:16:19.605144Z",
     "iopub.status.idle": "2023-06-20T05:18:40.784387Z",
     "shell.execute_reply": "2023-06-20T05:18:40.783420Z"
    },
    "papermill": {
     "duration": 141.190486,
     "end_time": "2023-06-20T05:18:40.786879",
     "exception": false,
     "start_time": "2023-06-20T05:16:19.596393",
     "status": "completed"
    },
    "tags": []
   },
   "outputs": [],
   "source": [
    "i=0\n",
    "for file in file_names:\n",
    "    img=Image.open(folder_path+\"/\"+file)\n",
    "    img.save(fake_path+\"/\"+file+\".JPEG\")\n",
    "    i=i+1\n",
    "    if i==9997:\n",
    "        break"
   ]
  },
  {
   "cell_type": "code",
   "execution_count": 16,
   "id": "c87c3885",
   "metadata": {
    "execution": {
     "iopub.execute_input": "2023-06-20T05:18:40.805442Z",
     "iopub.status.busy": "2023-06-20T05:18:40.804020Z",
     "iopub.status.idle": "2023-06-20T05:18:40.817134Z",
     "shell.execute_reply": "2023-06-20T05:18:40.816194Z"
    },
    "papermill": {
     "duration": 0.024088,
     "end_time": "2023-06-20T05:18:40.819238",
     "exception": false,
     "start_time": "2023-06-20T05:18:40.795150",
     "status": "completed"
    },
    "tags": []
   },
   "outputs": [
    {
     "data": {
      "text/plain": [
       "9997"
      ]
     },
     "execution_count": 16,
     "metadata": {},
     "output_type": "execute_result"
    }
   ],
   "source": [
    "len(os.listdir(\"./data/real\"))"
   ]
  },
  {
   "cell_type": "code",
   "execution_count": 17,
   "id": "d543f9b5",
   "metadata": {
    "execution": {
     "iopub.execute_input": "2023-06-20T05:18:40.836293Z",
     "iopub.status.busy": "2023-06-20T05:18:40.836004Z",
     "iopub.status.idle": "2023-06-20T05:18:48.642801Z",
     "shell.execute_reply": "2023-06-20T05:18:48.641844Z"
    },
    "papermill": {
     "duration": 7.818108,
     "end_time": "2023-06-20T05:18:48.645236",
     "exception": false,
     "start_time": "2023-06-20T05:18:40.827128",
     "status": "completed"
    },
    "tags": []
   },
   "outputs": [
    {
     "name": "stderr",
     "output_type": "stream",
     "text": [
      "/opt/conda/lib/python3.10/site-packages/tensorflow_io/python/ops/__init__.py:98: UserWarning: unable to load libtensorflow_io_plugins.so: unable to open file: libtensorflow_io_plugins.so, from paths: ['/opt/conda/lib/python3.10/site-packages/tensorflow_io/python/ops/libtensorflow_io_plugins.so']\n",
      "caused by: ['/opt/conda/lib/python3.10/site-packages/tensorflow_io/python/ops/libtensorflow_io_plugins.so: undefined symbol: _ZN3tsl6StatusC1EN10tensorflow5error4CodeESt17basic_string_viewIcSt11char_traitsIcEENS_14SourceLocationE']\n",
      "  warnings.warn(f\"unable to load libtensorflow_io_plugins.so: {e}\")\n",
      "/opt/conda/lib/python3.10/site-packages/tensorflow_io/python/ops/__init__.py:104: UserWarning: file system plugins are not loaded: unable to open file: libtensorflow_io.so, from paths: ['/opt/conda/lib/python3.10/site-packages/tensorflow_io/python/ops/libtensorflow_io.so']\n",
      "caused by: ['/opt/conda/lib/python3.10/site-packages/tensorflow_io/python/ops/libtensorflow_io.so: undefined symbol: _ZTVN10tensorflow13GcsFileSystemE']\n",
      "  warnings.warn(f\"file system plugins are not loaded: {e}\")\n"
     ]
    }
   ],
   "source": [
    "import tensorflow as tf"
   ]
  },
  {
   "cell_type": "code",
   "execution_count": 18,
   "id": "00e6f655",
   "metadata": {
    "execution": {
     "iopub.execute_input": "2023-06-20T05:18:48.663656Z",
     "iopub.status.busy": "2023-06-20T05:18:48.663043Z",
     "iopub.status.idle": "2023-06-20T05:18:48.668453Z",
     "shell.execute_reply": "2023-06-20T05:18:48.667618Z"
    },
    "papermill": {
     "duration": 0.016694,
     "end_time": "2023-06-20T05:18:48.670386",
     "exception": false,
     "start_time": "2023-06-20T05:18:48.653692",
     "status": "completed"
    },
    "tags": []
   },
   "outputs": [],
   "source": [
    "from tensorflow import keras"
   ]
  },
  {
   "cell_type": "code",
   "execution_count": 19,
   "id": "22bca15f",
   "metadata": {
    "execution": {
     "iopub.execute_input": "2023-06-20T05:18:48.687561Z",
     "iopub.status.busy": "2023-06-20T05:18:48.687290Z",
     "iopub.status.idle": "2023-06-20T05:18:48.691633Z",
     "shell.execute_reply": "2023-06-20T05:18:48.690805Z"
    },
    "papermill": {
     "duration": 0.014954,
     "end_time": "2023-06-20T05:18:48.693521",
     "exception": false,
     "start_time": "2023-06-20T05:18:48.678567",
     "status": "completed"
    },
    "tags": []
   },
   "outputs": [],
   "source": [
    "from keras.applications import VGG16\n",
    "from keras.models import Sequential\n",
    "from keras import layers\n",
    "from keras.layers import Flatten,Dropout"
   ]
  },
  {
   "cell_type": "code",
   "execution_count": 20,
   "id": "4d4cf979",
   "metadata": {
    "execution": {
     "iopub.execute_input": "2023-06-20T05:18:48.710565Z",
     "iopub.status.busy": "2023-06-20T05:18:48.710023Z",
     "iopub.status.idle": "2023-06-20T05:18:55.132351Z",
     "shell.execute_reply": "2023-06-20T05:18:55.131347Z"
    },
    "papermill": {
     "duration": 6.433335,
     "end_time": "2023-06-20T05:18:55.134595",
     "exception": false,
     "start_time": "2023-06-20T05:18:48.701260",
     "status": "completed"
    },
    "tags": []
   },
   "outputs": [
    {
     "name": "stdout",
     "output_type": "stream",
     "text": [
      "Downloading data from https://storage.googleapis.com/tensorflow/keras-applications/vgg16/vgg16_weights_tf_dim_ordering_tf_kernels_notop.h5\n",
      "58889256/58889256 [==============================] - 3s 0us/step\n"
     ]
    }
   ],
   "source": [
    "vgg_base=VGG16(weights='imagenet',include_top=False,input_shape=(256,256,3))"
   ]
  },
  {
   "cell_type": "code",
   "execution_count": 21,
   "id": "1194720f",
   "metadata": {
    "execution": {
     "iopub.execute_input": "2023-06-20T05:18:55.160096Z",
     "iopub.status.busy": "2023-06-20T05:18:55.159248Z",
     "iopub.status.idle": "2023-06-20T05:18:55.180610Z",
     "shell.execute_reply": "2023-06-20T05:18:55.179723Z"
    },
    "papermill": {
     "duration": 0.036031,
     "end_time": "2023-06-20T05:18:55.182672",
     "exception": false,
     "start_time": "2023-06-20T05:18:55.146641",
     "status": "completed"
    },
    "tags": []
   },
   "outputs": [],
   "source": [
    "model=Sequential(\n",
    "    [\n",
    "        layers.Rescaling(1/255.0),\n",
    "        vgg_base,\n",
    "        Flatten(),\n",
    "        Dropout(0.5),\n",
    "        layers.Dense(512,activation='relu'),\n",
    "        Dropout(0.2),\n",
    "        layers.Dense(256,activation='relu'),\n",
    "        Dropout(0.10),\n",
    "        layers.Dense(2),\n",
    "    ]\n",
    ")"
   ]
  },
  {
   "cell_type": "code",
   "execution_count": 22,
   "id": "d30350c6",
   "metadata": {
    "execution": {
     "iopub.execute_input": "2023-06-20T05:18:55.207555Z",
     "iopub.status.busy": "2023-06-20T05:18:55.206844Z",
     "iopub.status.idle": "2023-06-20T05:18:55.211905Z",
     "shell.execute_reply": "2023-06-20T05:18:55.211000Z"
    },
    "papermill": {
     "duration": 0.019687,
     "end_time": "2023-06-20T05:18:55.214069",
     "exception": false,
     "start_time": "2023-06-20T05:18:55.194382",
     "status": "completed"
    },
    "tags": []
   },
   "outputs": [],
   "source": [
    "vgg_base.trainable=False"
   ]
  },
  {
   "cell_type": "code",
   "execution_count": 23,
   "id": "7e4e768e",
   "metadata": {
    "execution": {
     "iopub.execute_input": "2023-06-20T05:18:55.238232Z",
     "iopub.status.busy": "2023-06-20T05:18:55.237937Z",
     "iopub.status.idle": "2023-06-20T05:18:55.255579Z",
     "shell.execute_reply": "2023-06-20T05:18:55.254725Z"
    },
    "papermill": {
     "duration": 0.031707,
     "end_time": "2023-06-20T05:18:55.257508",
     "exception": false,
     "start_time": "2023-06-20T05:18:55.225801",
     "status": "completed"
    },
    "tags": []
   },
   "outputs": [],
   "source": [
    "model.compile(optimizer=keras.optimizers.Adam(learning_rate=1e-4),loss=keras.losses.SparseCategoricalCrossentropy(from_logits=True),metrics=['accuracy'])"
   ]
  },
  {
   "cell_type": "code",
   "execution_count": 24,
   "id": "d726e9ad",
   "metadata": {
    "execution": {
     "iopub.execute_input": "2023-06-20T05:18:55.281536Z",
     "iopub.status.busy": "2023-06-20T05:18:55.281263Z",
     "iopub.status.idle": "2023-06-20T05:18:55.285342Z",
     "shell.execute_reply": "2023-06-20T05:18:55.284489Z"
    },
    "papermill": {
     "duration": 0.018347,
     "end_time": "2023-06-20T05:18:55.287354",
     "exception": false,
     "start_time": "2023-06-20T05:18:55.269007",
     "status": "completed"
    },
    "tags": []
   },
   "outputs": [],
   "source": [
    "img_height,img_width=256,256\n",
    "batch_size=256"
   ]
  },
  {
   "cell_type": "code",
   "execution_count": 25,
   "id": "69845561",
   "metadata": {
    "execution": {
     "iopub.execute_input": "2023-06-20T05:18:55.314123Z",
     "iopub.status.busy": "2023-06-20T05:18:55.313808Z",
     "iopub.status.idle": "2023-06-20T05:18:56.976411Z",
     "shell.execute_reply": "2023-06-20T05:18:56.975444Z"
    },
    "papermill": {
     "duration": 1.68034,
     "end_time": "2023-06-20T05:18:56.979098",
     "exception": false,
     "start_time": "2023-06-20T05:18:55.298758",
     "status": "completed"
    },
    "tags": []
   },
   "outputs": [
    {
     "name": "stdout",
     "output_type": "stream",
     "text": [
      "Found 19994 files belonging to 2 classes.\n"
     ]
    }
   ],
   "source": [
    "train_ds=keras.utils.image_dataset_from_directory(\"./data\",image_size=(img_height,img_width),batch_size=batch_size)"
   ]
  },
  {
   "cell_type": "code",
   "execution_count": 26,
   "id": "e6e07f2d",
   "metadata": {
    "execution": {
     "iopub.execute_input": "2023-06-20T05:18:57.004050Z",
     "iopub.status.busy": "2023-06-20T05:18:57.003736Z",
     "iopub.status.idle": "2023-06-20T06:19:32.481565Z",
     "shell.execute_reply": "2023-06-20T06:19:32.480541Z"
    },
    "papermill": {
     "duration": 3635.492871,
     "end_time": "2023-06-20T06:19:32.483954",
     "exception": false,
     "start_time": "2023-06-20T05:18:56.991083",
     "status": "completed"
    },
    "tags": []
   },
   "outputs": [
    {
     "name": "stdout",
     "output_type": "stream",
     "text": [
      "Epoch 1/50\n",
      "79/79 - 100s - loss: 0.6134 - accuracy: 0.6659 - 100s/epoch - 1s/step\n",
      "Epoch 2/50\n",
      "79/79 - 70s - loss: 0.4958 - accuracy: 0.7557 - 70s/epoch - 892ms/step\n",
      "Epoch 3/50\n",
      "79/79 - 70s - loss: 0.4568 - accuracy: 0.7812 - 70s/epoch - 885ms/step\n",
      "Epoch 4/50\n",
      "79/79 - 70s - loss: 0.4352 - accuracy: 0.7923 - 70s/epoch - 884ms/step\n",
      "Epoch 5/50\n",
      "79/79 - 70s - loss: 0.4075 - accuracy: 0.8088 - 70s/epoch - 886ms/step\n",
      "Epoch 6/50\n",
      "79/79 - 70s - loss: 0.3917 - accuracy: 0.8191 - 70s/epoch - 887ms/step\n",
      "Epoch 7/50\n",
      "79/79 - 70s - loss: 0.3704 - accuracy: 0.8318 - 70s/epoch - 887ms/step\n",
      "Epoch 8/50\n",
      "79/79 - 70s - loss: 0.3549 - accuracy: 0.8402 - 70s/epoch - 891ms/step\n",
      "Epoch 9/50\n",
      "79/79 - 69s - loss: 0.3337 - accuracy: 0.8516 - 69s/epoch - 875ms/step\n",
      "Epoch 10/50\n",
      "79/79 - 70s - loss: 0.3241 - accuracy: 0.8580 - 70s/epoch - 882ms/step\n",
      "Epoch 11/50\n",
      "79/79 - 70s - loss: 0.3139 - accuracy: 0.8610 - 70s/epoch - 885ms/step\n",
      "Epoch 12/50\n",
      "79/79 - 69s - loss: 0.2891 - accuracy: 0.8715 - 69s/epoch - 875ms/step\n",
      "Epoch 13/50\n",
      "79/79 - 70s - loss: 0.2718 - accuracy: 0.8819 - 70s/epoch - 884ms/step\n",
      "Epoch 14/50\n",
      "79/79 - 70s - loss: 0.2606 - accuracy: 0.8903 - 70s/epoch - 888ms/step\n",
      "Epoch 15/50\n",
      "79/79 - 70s - loss: 0.2492 - accuracy: 0.8914 - 70s/epoch - 889ms/step\n",
      "Epoch 16/50\n",
      "79/79 - 70s - loss: 0.2352 - accuracy: 0.9012 - 70s/epoch - 885ms/step\n",
      "Epoch 17/50\n",
      "79/79 - 70s - loss: 0.2207 - accuracy: 0.9071 - 70s/epoch - 881ms/step\n",
      "Epoch 18/50\n",
      "79/79 - 70s - loss: 0.2083 - accuracy: 0.9119 - 70s/epoch - 883ms/step\n",
      "Epoch 19/50\n",
      "79/79 - 70s - loss: 0.1996 - accuracy: 0.9173 - 70s/epoch - 883ms/step\n",
      "Epoch 20/50\n",
      "79/79 - 69s - loss: 0.1839 - accuracy: 0.9234 - 69s/epoch - 880ms/step\n",
      "Epoch 21/50\n",
      "79/79 - 70s - loss: 0.1726 - accuracy: 0.9291 - 70s/epoch - 889ms/step\n",
      "Epoch 22/50\n",
      "79/79 - 70s - loss: 0.1615 - accuracy: 0.9339 - 70s/epoch - 887ms/step\n",
      "Epoch 23/50\n",
      "79/79 - 70s - loss: 0.1531 - accuracy: 0.9387 - 70s/epoch - 887ms/step\n",
      "Epoch 24/50\n",
      "79/79 - 70s - loss: 0.1404 - accuracy: 0.9453 - 70s/epoch - 883ms/step\n",
      "Epoch 25/50\n",
      "79/79 - 69s - loss: 0.1349 - accuracy: 0.9482 - 69s/epoch - 875ms/step\n",
      "Epoch 26/50\n",
      "79/79 - 70s - loss: 0.1291 - accuracy: 0.9485 - 70s/epoch - 882ms/step\n",
      "Epoch 27/50\n",
      "79/79 - 70s - loss: 0.1152 - accuracy: 0.9560 - 70s/epoch - 884ms/step\n",
      "Epoch 28/50\n",
      "79/79 - 69s - loss: 0.1052 - accuracy: 0.9587 - 69s/epoch - 874ms/step\n",
      "Epoch 29/50\n",
      "79/79 - 70s - loss: 0.0986 - accuracy: 0.9614 - 70s/epoch - 881ms/step\n",
      "Epoch 30/50\n",
      "79/79 - 70s - loss: 0.0942 - accuracy: 0.9643 - 70s/epoch - 885ms/step\n",
      "Epoch 31/50\n",
      "79/79 - 70s - loss: 0.0928 - accuracy: 0.9648 - 70s/epoch - 887ms/step\n",
      "Epoch 32/50\n",
      "79/79 - 70s - loss: 0.0855 - accuracy: 0.9675 - 70s/epoch - 885ms/step\n",
      "Epoch 33/50\n",
      "79/79 - 69s - loss: 0.0787 - accuracy: 0.9703 - 69s/epoch - 880ms/step\n",
      "Epoch 34/50\n",
      "79/79 - 70s - loss: 0.0739 - accuracy: 0.9731 - 70s/epoch - 880ms/step\n",
      "Epoch 35/50\n",
      "79/79 - 70s - loss: 0.0739 - accuracy: 0.9718 - 70s/epoch - 883ms/step\n",
      "Epoch 36/50\n",
      "79/79 - 69s - loss: 0.0716 - accuracy: 0.9728 - 69s/epoch - 873ms/step\n",
      "Epoch 37/50\n",
      "79/79 - 70s - loss: 0.0630 - accuracy: 0.9768 - 70s/epoch - 881ms/step\n",
      "Epoch 38/50\n",
      "79/79 - 70s - loss: 0.0602 - accuracy: 0.9784 - 70s/epoch - 886ms/step\n",
      "Epoch 39/50\n",
      "79/79 - 70s - loss: 0.0565 - accuracy: 0.9797 - 70s/epoch - 885ms/step\n",
      "Epoch 40/50\n",
      "79/79 - 70s - loss: 0.0548 - accuracy: 0.9791 - 70s/epoch - 881ms/step\n",
      "Epoch 41/50\n",
      "79/79 - 67s - loss: 0.0498 - accuracy: 0.9823 - 67s/epoch - 852ms/step\n",
      "Epoch 42/50\n",
      "79/79 - 71s - loss: 0.0524 - accuracy: 0.9806 - 71s/epoch - 895ms/step\n",
      "Epoch 43/50\n",
      "79/79 - 70s - loss: 0.0485 - accuracy: 0.9819 - 70s/epoch - 885ms/step\n",
      "Epoch 44/50\n",
      "79/79 - 69s - loss: 0.0525 - accuracy: 0.9811 - 69s/epoch - 875ms/step\n",
      "Epoch 45/50\n",
      "79/79 - 70s - loss: 0.0446 - accuracy: 0.9849 - 70s/epoch - 882ms/step\n",
      "Epoch 46/50\n",
      "79/79 - 70s - loss: 0.0440 - accuracy: 0.9840 - 70s/epoch - 888ms/step\n",
      "Epoch 47/50\n",
      "79/79 - 70s - loss: 0.0436 - accuracy: 0.9844 - 70s/epoch - 887ms/step\n",
      "Epoch 48/50\n",
      "79/79 - 70s - loss: 0.0468 - accuracy: 0.9820 - 70s/epoch - 882ms/step\n",
      "Epoch 49/50\n",
      "79/79 - 70s - loss: 0.0377 - accuracy: 0.9869 - 70s/epoch - 884ms/step\n",
      "Epoch 50/50\n",
      "79/79 - 70s - loss: 0.0341 - accuracy: 0.9877 - 70s/epoch - 883ms/step\n"
     ]
    },
    {
     "data": {
      "text/plain": [
       "<keras.callbacks.History at 0x7d0ce8823400>"
      ]
     },
     "execution_count": 26,
     "metadata": {},
     "output_type": "execute_result"
    }
   ],
   "source": [
    "model.fit(train_ds,batch_size=batch_size,epochs=50,verbose=2)"
   ]
  },
  {
   "cell_type": "code",
   "execution_count": null,
   "id": "28284ede",
   "metadata": {
    "execution": {
     "iopub.execute_input": "2023-06-19T17:29:49.415723Z",
     "iopub.status.busy": "2023-06-19T17:29:49.414162Z",
     "iopub.status.idle": "2023-06-19T17:39:17.261217Z",
     "shell.execute_reply": "2023-06-19T17:39:17.260143Z",
     "shell.execute_reply.started": "2023-06-19T17:29:49.415687Z"
    },
    "papermill": {
     "duration": 0.018388,
     "end_time": "2023-06-20T06:19:32.521229",
     "exception": false,
     "start_time": "2023-06-20T06:19:32.502841",
     "status": "completed"
    },
    "tags": []
   },
   "outputs": [],
   "source": []
  },
  {
   "cell_type": "code",
   "execution_count": 27,
   "id": "2d2906c3",
   "metadata": {
    "execution": {
     "iopub.execute_input": "2023-06-20T06:19:32.560203Z",
     "iopub.status.busy": "2023-06-20T06:19:32.559864Z",
     "iopub.status.idle": "2023-06-20T06:19:36.025518Z",
     "shell.execute_reply": "2023-06-20T06:19:36.024349Z"
    },
    "papermill": {
     "duration": 3.488336,
     "end_time": "2023-06-20T06:19:36.027997",
     "exception": false,
     "start_time": "2023-06-20T06:19:32.539661",
     "status": "completed"
    },
    "tags": []
   },
   "outputs": [],
   "source": [
    "model.save(\"./save\")"
   ]
  },
  {
   "cell_type": "code",
   "execution_count": null,
   "id": "b7d6cfef",
   "metadata": {
    "papermill": {
     "duration": 0.018281,
     "end_time": "2023-06-20T06:19:36.065179",
     "exception": false,
     "start_time": "2023-06-20T06:19:36.046898",
     "status": "completed"
    },
    "tags": []
   },
   "outputs": [],
   "source": []
  }
 ],
 "metadata": {
  "kernelspec": {
   "display_name": "Python 3",
   "language": "python",
   "name": "python3"
  },
  "language_info": {
   "codemirror_mode": {
    "name": "ipython",
    "version": 3
   },
   "file_extension": ".py",
   "mimetype": "text/x-python",
   "name": "python",
   "nbconvert_exporter": "python",
   "pygments_lexer": "ipython3",
   "version": "3.10.10"
  },
  "papermill": {
   "default_parameters": {},
   "duration": 4105.999309,
   "end_time": "2023-06-20T06:19:39.908397",
   "environment_variables": {},
   "exception": null,
   "input_path": "__notebook__.ipynb",
   "output_path": "__notebook__.ipynb",
   "parameters": {},
   "start_time": "2023-06-20T05:11:13.909088",
   "version": "2.4.0"
  }
 },
 "nbformat": 4,
 "nbformat_minor": 5
}
